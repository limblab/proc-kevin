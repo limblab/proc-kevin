{
 "cells": [
  {
   "cell_type": "markdown",
   "id": "2183312b",
   "metadata": {},
   "source": [
    "# Daily Log to SQL\n",
    "\n",
    "This is a file to help clean up data from the daily logs and insert them into the Limblab MySQL database. You will need to know the passwords and either be connected to the VPN or running this remotely on Shrek or Donkey to use this."
   ]
  },
  {
   "cell_type": "code",
   "execution_count": 63,
   "id": "57e8c741",
   "metadata": {},
   "outputs": [],
   "source": [
    "import pandas as pd\n",
    "import numpy as np\n",
    "from sqlalchemy import engine\n",
    "\n",
    "dbName = \"staging_db\"\n",
    "userName = \"LL\""
   ]
  },
  {
   "cell_type": "markdown",
   "id": "d00fe2cd",
   "metadata": {},
   "source": [
    "### Make sure to update the filename and monkey name below:\n",
    "\n",
    "Either run for the google sheet **or** the excel version"
   ]
  },
  {
   "cell_type": "code",
   "execution_count": 64,
   "id": "5abdf535",
   "metadata": {},
   "outputs": [],
   "source": [
    "monkeyName = \"Rocket\"\n",
    "ccmID = \"19L1\""
   ]
  },
  {
   "cell_type": "markdown",
   "id": "6de9fd71",
   "metadata": {},
   "source": [
    "#### For a Google Sheet"
   ]
  },
  {
   "cell_type": "code",
   "execution_count": 65,
   "id": "039835b1",
   "metadata": {},
   "outputs": [
    {
     "name": "stdout",
     "output_type": "stream",
     "text": [
      "https://docs.google.com/spreadsheets/d/1ICGCMKkMShzQpq1FKOBGjxaMFoDY9_mtydJxAm6Bv3U/export?gid=0&format=csv&sheet=DailyLog\n"
     ]
    }
   ],
   "source": [
    "# Using a google sheet\n",
    "sheetName = \"DailyLog\"\n",
    "# file_id is the portion after the \"d\" in the URL\n",
    "file_id = \"1ICGCMKkMShzQpq1FKOBGjxaMFoDY9_mtydJxAm6Bv3U\"\n",
    "googleURL = f\"https://docs.google.com/spreadsheets/d/{file_id}/export?gid=0&format=csv&sheet={sheetName}\"\n",
    "\n",
    "print(googleURL)\n",
    "\n",
    "log = pd.read_csv(googleURL)"
   ]
  },
  {
   "cell_type": "markdown",
   "id": "e32cb6b8",
   "metadata": {},
   "source": [
    "#### For an excel file\n",
    "\n",
    "You can use forward slashes even if you're using windows. You will need to either do that or replace all of the backslashes with \"\\\\\" since it will see a single \"\\\" as an escape key."
   ]
  },
  {
   "cell_type": "code",
   "execution_count": 66,
   "id": "92d60310",
   "metadata": {},
   "outputs": [],
   "source": [
    "# Using an excel file\n",
    "sheetName = \"DailyLog\"\n",
    "fileName = \"C:/Users/17204/Downloads/Rocket.xlsx\" \n",
    "log = pd.read_excel(fileName,sheet_name=sheetName)\n"
   ]
  },
  {
   "cell_type": "markdown",
   "id": "f054908d",
   "metadata": {},
   "source": [
    "### Let's inspect the logs\n",
    "\n",
    "Most likely we'll just remove any dates that don't have any useful filled information, though you should double check that nothing weird is going on."
   ]
  },
  {
   "cell_type": "code",
   "execution_count": 67,
   "id": "0c023fe4",
   "metadata": {},
   "outputs": [
    {
     "name": "stdout",
     "output_type": "stream",
     "text": [
      "<class 'pandas.core.frame.DataFrame'>\n",
      "RangeIndex: 683 entries, 0 to 682\n",
      "Data columns (total 24 columns):\n",
      " #   Column                Non-Null Count  Dtype         \n",
      "---  ------                --------------  -----         \n",
      " 0   Day                   683 non-null    object        \n",
      " 1   Date                  683 non-null    datetime64[ns]\n",
      " 2   Weight                103 non-null    float64       \n",
      " 3   Start time            99 non-null     object        \n",
      " 4   End time              84 non-null     object        \n",
      " 5   H2O (lab)             164 non-null    float64       \n",
      " 6   H20 (bottle)          54 non-null     float64       \n",
      " 7   H2O (total)           683 non-null    int64         \n",
      " 8   Required Daily        676 non-null    float64       \n",
      " 9   Avg H2O intake        676 non-null    float64       \n",
      " 10  Required average H2)  676 non-null    float64       \n",
      " 11  Supplementary Treats  66 non-null     object        \n",
      " 12  Pulse size            41 non-null     object        \n",
      " 13  Reward                37 non-null     object        \n",
      " 14  Abort                 20 non-null     float64       \n",
      " 15  Fail                  20 non-null     float64       \n",
      " 16  Incompl               20 non-null     float64       \n",
      " 17  Lab no.               48 non-null     object        \n",
      " 18  Person Working        67 non-null     object        \n",
      " 19  Time doing task       108 non-null    object        \n",
      " 20  Behavioral Notes      32 non-null     object        \n",
      " 21  Health Notes          11 non-null     object        \n",
      " 22  Cleaned               11 non-null     object        \n",
      " 23  Other Notes           3 non-null      object        \n",
      "dtypes: datetime64[ns](1), float64(9), int64(1), object(13)\n",
      "memory usage: 128.2+ KB\n"
     ]
    }
   ],
   "source": [
    "log.info()"
   ]
  },
  {
   "cell_type": "markdown",
   "id": "a934be6c",
   "metadata": {},
   "source": [
    "### Remove unneeded fields\n",
    "\n",
    "The fields for the daily logs are:\n",
    "\n",
    "| Field | | Datatype |\n",
    "| :-: | :-: | :-: |\n",
    "| **rec_date** | | date |\n",
    "| **monkey_id** | | varchar(10) |\n",
    "| **weight** | | int |\n",
    "| **start_time** | | time |\n",
    "| **end_time** | | time |\n",
    "| **h2o_lab** | | int |\n",
    "| **h2o_home** | | int |\n",
    "| **treats** | | varchar(40) |\n",
    "| **lab_num** | | varchar(10) |\n",
    "| **num_reward** | | int |\n",
    "| **num_abort** | | int |\n",
    "| **num_fail** | | int |\n",
    "| **num_incomplete** | | int |\n",
    "| **behavior_notes** | | varchar(1000) |\n",
    "| **behavior_quality** | | enum: 'bad','ok','good' |\n",
    "| **health_notes** | | varchar(1000) |\n",
    "| **cleaned** | | bool/tinyint(1) |\n",
    "| **other_notes** | | varchar(1000) |\n",
    "| **day_key** | | int |\n",
    "| **experiment** | | varchar(1000) |\n",
    "| **experimentor**| | varchar(50) |\n",
    "\n",
    "\n",
    "drop any fields that don't align with these and then change the names appropriately"
   ]
  },
  {
   "cell_type": "code",
   "execution_count": 97,
   "id": "c9308408",
   "metadata": {},
   "outputs": [
    {
     "ename": "KeyError",
     "evalue": "\"['Day' 'H2O (total)' 'Required Daily' 'Avg H2O intake'\\n 'Required average H2)' 'Pulse size' 'Pulse size' 'Time doing task'] not found in axis\"",
     "output_type": "error",
     "traceback": [
      "\u001b[1;31m---------------------------------------------------------------------------\u001b[0m",
      "\u001b[1;31mKeyError\u001b[0m                                  Traceback (most recent call last)",
      "\u001b[1;32m~\\AppData\\Local\\Temp/ipykernel_18124/801991560.py\u001b[0m in \u001b[0;36m<module>\u001b[1;34m\u001b[0m\n\u001b[0;32m      3\u001b[0m               'Pulse size', 'Pulse size', 'Time doing task']\n\u001b[0;32m      4\u001b[0m \u001b[1;33m\u001b[0m\u001b[0m\n\u001b[1;32m----> 5\u001b[1;33m \u001b[0mlog\u001b[0m\u001b[1;33m.\u001b[0m\u001b[0mdrop\u001b[0m\u001b[1;33m(\u001b[0m\u001b[0mcolumns\u001b[0m \u001b[1;33m=\u001b[0m \u001b[0mdropCols\u001b[0m\u001b[1;33m,\u001b[0m \u001b[0minplace\u001b[0m\u001b[1;33m=\u001b[0m\u001b[1;32mTrue\u001b[0m\u001b[1;33m)\u001b[0m\u001b[1;33m\u001b[0m\u001b[1;33m\u001b[0m\u001b[0m\n\u001b[0m\u001b[0;32m      6\u001b[0m \u001b[1;33m\u001b[0m\u001b[0m\n\u001b[0;32m      7\u001b[0m \u001b[1;31m# rename remaining columns to match the database names\u001b[0m\u001b[1;33m\u001b[0m\u001b[1;33m\u001b[0m\u001b[1;33m\u001b[0m\u001b[0m\n",
      "\u001b[1;32m~\\miniconda3\\envs\\daily_log_parser\\lib\\site-packages\\pandas\\util\\_decorators.py\u001b[0m in \u001b[0;36mwrapper\u001b[1;34m(*args, **kwargs)\u001b[0m\n\u001b[0;32m    309\u001b[0m                     \u001b[0mstacklevel\u001b[0m\u001b[1;33m=\u001b[0m\u001b[0mstacklevel\u001b[0m\u001b[1;33m,\u001b[0m\u001b[1;33m\u001b[0m\u001b[1;33m\u001b[0m\u001b[0m\n\u001b[0;32m    310\u001b[0m                 )\n\u001b[1;32m--> 311\u001b[1;33m             \u001b[1;32mreturn\u001b[0m \u001b[0mfunc\u001b[0m\u001b[1;33m(\u001b[0m\u001b[1;33m*\u001b[0m\u001b[0margs\u001b[0m\u001b[1;33m,\u001b[0m \u001b[1;33m**\u001b[0m\u001b[0mkwargs\u001b[0m\u001b[1;33m)\u001b[0m\u001b[1;33m\u001b[0m\u001b[1;33m\u001b[0m\u001b[0m\n\u001b[0m\u001b[0;32m    312\u001b[0m \u001b[1;33m\u001b[0m\u001b[0m\n\u001b[0;32m    313\u001b[0m         \u001b[1;32mreturn\u001b[0m \u001b[0mwrapper\u001b[0m\u001b[1;33m\u001b[0m\u001b[1;33m\u001b[0m\u001b[0m\n",
      "\u001b[1;32m~\\miniconda3\\envs\\daily_log_parser\\lib\\site-packages\\pandas\\core\\frame.py\u001b[0m in \u001b[0;36mdrop\u001b[1;34m(self, labels, axis, index, columns, level, inplace, errors)\u001b[0m\n\u001b[0;32m   4904\u001b[0m                 \u001b[0mweight\u001b[0m  \u001b[1;36m1.0\u001b[0m     \u001b[1;36m0.8\u001b[0m\u001b[1;33m\u001b[0m\u001b[1;33m\u001b[0m\u001b[0m\n\u001b[0;32m   4905\u001b[0m         \"\"\"\n\u001b[1;32m-> 4906\u001b[1;33m         return super().drop(\n\u001b[0m\u001b[0;32m   4907\u001b[0m             \u001b[0mlabels\u001b[0m\u001b[1;33m=\u001b[0m\u001b[0mlabels\u001b[0m\u001b[1;33m,\u001b[0m\u001b[1;33m\u001b[0m\u001b[1;33m\u001b[0m\u001b[0m\n\u001b[0;32m   4908\u001b[0m             \u001b[0maxis\u001b[0m\u001b[1;33m=\u001b[0m\u001b[0maxis\u001b[0m\u001b[1;33m,\u001b[0m\u001b[1;33m\u001b[0m\u001b[1;33m\u001b[0m\u001b[0m\n",
      "\u001b[1;32m~\\miniconda3\\envs\\daily_log_parser\\lib\\site-packages\\pandas\\core\\generic.py\u001b[0m in \u001b[0;36mdrop\u001b[1;34m(self, labels, axis, index, columns, level, inplace, errors)\u001b[0m\n\u001b[0;32m   4148\u001b[0m         \u001b[1;32mfor\u001b[0m \u001b[0maxis\u001b[0m\u001b[1;33m,\u001b[0m \u001b[0mlabels\u001b[0m \u001b[1;32min\u001b[0m \u001b[0maxes\u001b[0m\u001b[1;33m.\u001b[0m\u001b[0mitems\u001b[0m\u001b[1;33m(\u001b[0m\u001b[1;33m)\u001b[0m\u001b[1;33m:\u001b[0m\u001b[1;33m\u001b[0m\u001b[1;33m\u001b[0m\u001b[0m\n\u001b[0;32m   4149\u001b[0m             \u001b[1;32mif\u001b[0m \u001b[0mlabels\u001b[0m \u001b[1;32mis\u001b[0m \u001b[1;32mnot\u001b[0m \u001b[1;32mNone\u001b[0m\u001b[1;33m:\u001b[0m\u001b[1;33m\u001b[0m\u001b[1;33m\u001b[0m\u001b[0m\n\u001b[1;32m-> 4150\u001b[1;33m                 \u001b[0mobj\u001b[0m \u001b[1;33m=\u001b[0m \u001b[0mobj\u001b[0m\u001b[1;33m.\u001b[0m\u001b[0m_drop_axis\u001b[0m\u001b[1;33m(\u001b[0m\u001b[0mlabels\u001b[0m\u001b[1;33m,\u001b[0m \u001b[0maxis\u001b[0m\u001b[1;33m,\u001b[0m \u001b[0mlevel\u001b[0m\u001b[1;33m=\u001b[0m\u001b[0mlevel\u001b[0m\u001b[1;33m,\u001b[0m \u001b[0merrors\u001b[0m\u001b[1;33m=\u001b[0m\u001b[0merrors\u001b[0m\u001b[1;33m)\u001b[0m\u001b[1;33m\u001b[0m\u001b[1;33m\u001b[0m\u001b[0m\n\u001b[0m\u001b[0;32m   4151\u001b[0m \u001b[1;33m\u001b[0m\u001b[0m\n\u001b[0;32m   4152\u001b[0m         \u001b[1;32mif\u001b[0m \u001b[0minplace\u001b[0m\u001b[1;33m:\u001b[0m\u001b[1;33m\u001b[0m\u001b[1;33m\u001b[0m\u001b[0m\n",
      "\u001b[1;32m~\\miniconda3\\envs\\daily_log_parser\\lib\\site-packages\\pandas\\core\\generic.py\u001b[0m in \u001b[0;36m_drop_axis\u001b[1;34m(self, labels, axis, level, errors)\u001b[0m\n\u001b[0;32m   4183\u001b[0m                 \u001b[0mnew_axis\u001b[0m \u001b[1;33m=\u001b[0m \u001b[0maxis\u001b[0m\u001b[1;33m.\u001b[0m\u001b[0mdrop\u001b[0m\u001b[1;33m(\u001b[0m\u001b[0mlabels\u001b[0m\u001b[1;33m,\u001b[0m \u001b[0mlevel\u001b[0m\u001b[1;33m=\u001b[0m\u001b[0mlevel\u001b[0m\u001b[1;33m,\u001b[0m \u001b[0merrors\u001b[0m\u001b[1;33m=\u001b[0m\u001b[0merrors\u001b[0m\u001b[1;33m)\u001b[0m\u001b[1;33m\u001b[0m\u001b[1;33m\u001b[0m\u001b[0m\n\u001b[0;32m   4184\u001b[0m             \u001b[1;32melse\u001b[0m\u001b[1;33m:\u001b[0m\u001b[1;33m\u001b[0m\u001b[1;33m\u001b[0m\u001b[0m\n\u001b[1;32m-> 4185\u001b[1;33m                 \u001b[0mnew_axis\u001b[0m \u001b[1;33m=\u001b[0m \u001b[0maxis\u001b[0m\u001b[1;33m.\u001b[0m\u001b[0mdrop\u001b[0m\u001b[1;33m(\u001b[0m\u001b[0mlabels\u001b[0m\u001b[1;33m,\u001b[0m \u001b[0merrors\u001b[0m\u001b[1;33m=\u001b[0m\u001b[0merrors\u001b[0m\u001b[1;33m)\u001b[0m\u001b[1;33m\u001b[0m\u001b[1;33m\u001b[0m\u001b[0m\n\u001b[0m\u001b[0;32m   4186\u001b[0m             \u001b[0mresult\u001b[0m \u001b[1;33m=\u001b[0m \u001b[0mself\u001b[0m\u001b[1;33m.\u001b[0m\u001b[0mreindex\u001b[0m\u001b[1;33m(\u001b[0m\u001b[1;33m**\u001b[0m\u001b[1;33m{\u001b[0m\u001b[0maxis_name\u001b[0m\u001b[1;33m:\u001b[0m \u001b[0mnew_axis\u001b[0m\u001b[1;33m}\u001b[0m\u001b[1;33m)\u001b[0m\u001b[1;33m\u001b[0m\u001b[1;33m\u001b[0m\u001b[0m\n\u001b[0;32m   4187\u001b[0m \u001b[1;33m\u001b[0m\u001b[0m\n",
      "\u001b[1;32m~\\miniconda3\\envs\\daily_log_parser\\lib\\site-packages\\pandas\\core\\indexes\\base.py\u001b[0m in \u001b[0;36mdrop\u001b[1;34m(self, labels, errors)\u001b[0m\n\u001b[0;32m   6015\u001b[0m         \u001b[1;32mif\u001b[0m \u001b[0mmask\u001b[0m\u001b[1;33m.\u001b[0m\u001b[0many\u001b[0m\u001b[1;33m(\u001b[0m\u001b[1;33m)\u001b[0m\u001b[1;33m:\u001b[0m\u001b[1;33m\u001b[0m\u001b[1;33m\u001b[0m\u001b[0m\n\u001b[0;32m   6016\u001b[0m             \u001b[1;32mif\u001b[0m \u001b[0merrors\u001b[0m \u001b[1;33m!=\u001b[0m \u001b[1;34m\"ignore\"\u001b[0m\u001b[1;33m:\u001b[0m\u001b[1;33m\u001b[0m\u001b[1;33m\u001b[0m\u001b[0m\n\u001b[1;32m-> 6017\u001b[1;33m                 \u001b[1;32mraise\u001b[0m \u001b[0mKeyError\u001b[0m\u001b[1;33m(\u001b[0m\u001b[1;34mf\"{labels[mask]} not found in axis\"\u001b[0m\u001b[1;33m)\u001b[0m\u001b[1;33m\u001b[0m\u001b[1;33m\u001b[0m\u001b[0m\n\u001b[0m\u001b[0;32m   6018\u001b[0m             \u001b[0mindexer\u001b[0m \u001b[1;33m=\u001b[0m \u001b[0mindexer\u001b[0m\u001b[1;33m[\u001b[0m\u001b[1;33m~\u001b[0m\u001b[0mmask\u001b[0m\u001b[1;33m]\u001b[0m\u001b[1;33m\u001b[0m\u001b[1;33m\u001b[0m\u001b[0m\n\u001b[0;32m   6019\u001b[0m         \u001b[1;32mreturn\u001b[0m \u001b[0mself\u001b[0m\u001b[1;33m.\u001b[0m\u001b[0mdelete\u001b[0m\u001b[1;33m(\u001b[0m\u001b[0mindexer\u001b[0m\u001b[1;33m)\u001b[0m\u001b[1;33m\u001b[0m\u001b[1;33m\u001b[0m\u001b[0m\n",
      "\u001b[1;31mKeyError\u001b[0m: \"['Day' 'H2O (total)' 'Required Daily' 'Avg H2O intake'\\n 'Required average H2)' 'Pulse size' 'Pulse size' 'Time doing task'] not found in axis\""
     ]
    }
   ],
   "source": [
    "# list of columns. You will need to change these to match the current dataframe columns\n",
    "dropCols = ['Day', 'H2O (total)', 'Required Daily', 'Avg H2O intake', 'Required average H2)', \n",
    "              'Pulse size', 'Pulse size', 'Time doing task']\n",
    "\n",
    "log.drop(columns = dropCols, inplace=True)\n",
    "\n",
    "# rename remaining columns to match the database names\n",
    "# should be a dictionary of {old_name:new_name}\n",
    "renameCols = {'Date':'date',\n",
    "             'Weight':'weight',\n",
    "             'Start time':'start_time',\n",
    "             'End time':'end_time',\n",
    "             'H2O (lab)': 'h2o_lab',\n",
    "             'H20 (bottle)': 'h2o_home',\n",
    "             'Supplementary Treats':'treats',\n",
    "             'Lab no.':'lab_num',\n",
    "             'Reward':'num_reward',\n",
    "             'Abort':'num_abort',\n",
    "             'Fail':'num_fail',\n",
    "             'Incompl':'num_incomplete',\n",
    "             'Behavioral Notes':'behavior_notes',\n",
    "             'Health Notes':'health_notes',\n",
    "             'Cleaned':'cleaned',\n",
    "             'Other Notes':'other_notes',\n",
    "             'Person Working':'experimentor'}\n",
    "log.rename(columns = renameCols, inplace=True)\n",
    "\n",
    "\n",
    "\n",
    "log.variable_counts()"
   ]
  },
  {
   "cell_type": "markdown",
   "id": "dd79f877",
   "metadata": {},
   "source": [
    "### Remove invalid days\n",
    "\n",
    "We don't want entries from days where we didn't record. To that end, we will remove anything where we don't have weight, a start time, and h2o in the lab. I mean this in boolean AND sense, meaning if we have any of those three we will keep the row just to be safe."
   ]
  },
  {
   "cell_type": "code",
   "execution_count": 138,
   "id": "5b754495",
   "metadata": {},
   "outputs": [
    {
     "name": "stdout",
     "output_type": "stream",
     "text": [
      "<class 'pandas.core.frame.DataFrame'>\n",
      "Int64Index: 169 entries, 7 to 618\n",
      "Data columns (total 17 columns):\n",
      " #   Column          Non-Null Count  Dtype         \n",
      "---  ------          --------------  -----         \n",
      " 0   date            169 non-null    datetime64[ns]\n",
      " 1   weight          103 non-null    float64       \n",
      " 2   start_time      99 non-null     object        \n",
      " 3   end_time        84 non-null     object        \n",
      " 4   h2o_lab         164 non-null    float64       \n",
      " 5   h2o_home        16 non-null     float64       \n",
      " 6   treats          66 non-null     object        \n",
      " 7   num_reward      36 non-null     object        \n",
      " 8   num_abort       20 non-null     float64       \n",
      " 9   num_fail        20 non-null     float64       \n",
      " 10  num_incomplete  20 non-null     float64       \n",
      " 11  lab_num         48 non-null     object        \n",
      " 12  experimentor    67 non-null     object        \n",
      " 13  behavior_notes  32 non-null     object        \n",
      " 14  health_notes    11 non-null     object        \n",
      " 15  cleaned         11 non-null     object        \n",
      " 16  other_notes     3 non-null      object        \n",
      "dtypes: datetime64[ns](1), float64(6), object(10)\n",
      "memory usage: 23.8+ KB\n"
     ]
    }
   ],
   "source": [
    "dropRows = np.where(log[['weight', 'start_time', 'h2o_lab']].isnull().sum(axis=1)>=3)[0]\n",
    "\n",
    "log.drop(index = dropRows, inplace=True)\n",
    "\n",
    "log.info()"
   ]
  }
 ],
 "metadata": {
  "kernelspec": {
   "display_name": "Python 3 (ipykernel)",
   "language": "python",
   "name": "python3"
  },
  "language_info": {
   "codemirror_mode": {
    "name": "ipython",
    "version": 3
   },
   "file_extension": ".py",
   "mimetype": "text/x-python",
   "name": "python",
   "nbconvert_exporter": "python",
   "pygments_lexer": "ipython3",
   "version": "3.8.12"
  }
 },
 "nbformat": 4,
 "nbformat_minor": 5
}
