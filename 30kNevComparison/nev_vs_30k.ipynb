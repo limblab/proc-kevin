{
 "cells": [
  {
   "cell_type": "markdown",
   "metadata": {},
   "source": [
    "# nev_vs_30k\n",
    "### Comparing simultaneously recorded data\n",
    "\n",
    "Chethan was claiming that we might be missing some spikes and changing the waveform since we're using the cerebus' online threshold crossing detector"
   ]
  },
  {
   "cell_type": "code",
   "execution_count": 5,
   "metadata": {},
   "outputs": [
    {
     "name": "stdout",
     "output_type": "stream",
     "text": [
      "it's working\n"
     ]
    }
   ],
   "source": [
    "# start by importing numpy and blackrock's brpylib\n",
    "import numpy\n",
    "import sys\n",
    "from scipy import signal\n",
    "from PyQt5.QtWidgets import QFileDialog\n",
    "\n",
    "## add brpy to the path and import into the environment\n",
    "#from brpylib import NsxFile, NevFile # well this is easy to use ... thanks Jupyter\n",
    "\n",
    "# try this with nex through neuroexplorer\n",
    "sys.path.append(\"C:\\\\ProgramData\\\\Nex Technologies\\\\NeuroExplorer 5 x64\")\n",
    "import nex\n",
    "\n",
    "print('it\\'s working')"
   ]
  },
  {
   "cell_type": "code",
   "execution_count": null,
   "metadata": {},
   "outputs": [],
   "source": [
    "# Files we want to open -- qt version (not working right now)\n",
    "\n",
    "nsxFileName = QFileDialog.getOpenFileName(self,'Open raw recording','c://Users/Kevin/Documents/Data/',\".ns6 files (*.ns6)\")\n",
    "nevFileName = QFileDialogQFileDialog.getOpenFileName(self,'Open neural events recording','c://Users/Kevin/Documents/Data/',\".nev files (*.nev)\")"
   ]
  },
  {
   "cell_type": "code",
   "execution_count": 5,
   "metadata": {},
   "outputs": [],
   "source": [
    "# files we want - static string version\n",
    "nsxFileName = '' #raw recording\n",
    "nevFileName = '' #nev recording"
   ]
  },
  {
   "cell_type": "code",
   "execution_count": null,
   "metadata": {},
   "outputs": [],
   "source": [
    "# import each of them\n",
    "nsxFilePointer = nsxFile(nevFileName)\n",
    "nevFilePointer = nevFile(nevFileName)\n",
    "\n",
    "nsxData = nsxFilePointer.getdata()\n",
    "nevData = nevFilePointer.getdata()\n",
    "\n",
    "nsxFilePointer.close()\n",
    "nevFilePointer.close()\n",
    "\n"
   ]
  },
  {
   "cell_type": "code",
   "execution_count": null,
   "metadata": {},
   "outputs": [],
   "source": [
    "display(nsxData)\n",
    "display(nevData.spike_data)"
   ]
  }
 ],
 "metadata": {
  "kernelspec": {
   "display_name": "Python 3",
   "language": "python",
   "name": "python3"
  },
  "language_info": {
   "codemirror_mode": {
    "name": "ipython",
    "version": 3
   },
   "file_extension": ".py",
   "mimetype": "text/x-python",
   "name": "python",
   "nbconvert_exporter": "python",
   "pygments_lexer": "ipython3",
   "version": "3.7.3"
  }
 },
 "nbformat": 4,
 "nbformat_minor": 2
}
