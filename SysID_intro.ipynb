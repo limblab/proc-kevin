{
 "cells": [
  {
   "cell_type": "markdown",
   "metadata": {},
   "source": [
    "# System ID Introduction\n",
    "\n",
    "We'll be taking a look through a few common methods of examining the input and output signals of a system using Python.\n",
    "\n",
    "\n",
    "Most of this will be done using the \"signal\" toolkit from SciPy, with help from Numpy.\n",
    "\n",
    "\n",
    "First, let's import all of the necessary modules"
   ]
  },
  {
   "cell_type": "code",
   "execution_count": 37,
   "metadata": {},
   "outputs": [],
   "source": [
    "from scipy import signal\n",
    "import numpy as np\n",
    "from matplotlib import pyplot as plt\n",
    "# import ipympl # This is nice for better interactive plots\n",
    "import pandas as pd\n",
    "%matplotlib qt"
   ]
  },
  {
   "cell_type": "markdown",
   "metadata": {},
   "source": [
    "First, let's create a few \"standard\" waveforms -- A step, a unit impulse, a sine wave, and a chirp."
   ]
  },
  {
   "cell_type": "code",
   "execution_count": 38,
   "metadata": {},
   "outputs": [],
   "source": [
    "fs = 1000\n",
    "ts = np.arange(-1,60,1/fs)      # times\n",
    "\n",
    "impulse = np.zeros(ts.shape)    # impulse is zero...\n",
    "impulse[fs] = 1               # except at zero\n",
    "\n",
    "step = np.zeros(ts.shape)       # step is zero before zero\n",
    "step[fs:] = 1                 # and 1 after\n",
    "\n",
    "sine = np.sin(ts*20*(2*np.pi))               # sine wave with freq. of 20 hz\n",
    "\n",
    "chirp = signal.chirp(ts,1,50,40, method='logarithmic')\n",
    "\n",
    "rand = np.random.random(size=ts.shape)"
   ]
  },
  {
   "cell_type": "markdown",
   "metadata": {},
   "source": [
    "Now let's plot them all to see what we're looking at"
   ]
  },
  {
   "cell_type": "code",
   "execution_count": 39,
   "metadata": {},
   "outputs": [],
   "source": [
    "fig_base,ax_base = plt.subplots(nrows=5, sharex=True)\n",
    "\n",
    "ax_base[0].plot(ts,impulse, label='Impulse')\n",
    "ax_base[1].plot(ts,step, label='Step')\n",
    "ax_base[2].plot(ts,sine, label='Sine')\n",
    "ax_base[3].plot(ts,chirp, label='Chirp')\n",
    "ax_base[4].plot(ts,rand, label='Rand')\n",
    "\n",
    "for ii in np.arange(4):\n",
    "    ax_base[ii].spines[:].set_visible(False)\n",
    "    ax_base[ii].set_ylim([-1.1,1.1])\n",
    "    ax_base[ii].set_xticks(ticks=[])\n",
    "\n",
    "\n",
    "fig_base.tight_layout()"
   ]
  },
  {
   "cell_type": "markdown",
   "metadata": {},
   "source": [
    "### Power Spectra\n",
    "\n",
    "The power spectra looks at the power density of the signal at different frequencies. We will expect to see some interesting stuff from the delta and step functions"
   ]
  },
  {
   "cell_type": "code",
   "execution_count": 40,
   "metadata": {},
   "outputs": [],
   "source": [
    "# f_impulse,p_impulse = signal.welch(impulse, fs, scaling='spectrum')\n",
    "# f_step,p_step = signal.welch(step, fs, scaling='spectrum')\n",
    "# f_sine,p_sine = signal.welch(sine, fs, scaling='spectrum')\n",
    "# f_chirp,p_chirp = signal.welch(chirp, fs, scaling='spectrum')\n",
    "# f_rand,p_rand = signal.welch(rand, fs, scaling='spectrum')\n",
    "\n",
    "\n",
    "\n",
    "f_impulse,p_impulse = signal.welch(impulse, fs, scaling='spectrum', nperseg=1024)\n",
    "f_step,p_step = signal.welch(step, fs, scaling='spectrum', nperseg=1024)\n",
    "f_sine,p_sine = signal.welch(sine, fs, scaling='spectrum', nperseg=1024)\n",
    "f_chirp,p_chirp = signal.welch(chirp, fs, scaling='spectrum', nperseg=1024)\n",
    "f_rand,p_rand = signal.welch(rand, fs, scaling='spectrum', nperseg=1024)"
   ]
  },
  {
   "cell_type": "code",
   "execution_count": 41,
   "metadata": {},
   "outputs": [],
   "source": [
    "fig_welch,ax_welch = plt.subplots(nrows=5, sharex=True)\n",
    "\n",
    "ax_welch[0].plot(f_impulse, p_impulse, label='impulse')\n",
    "ax_welch[0].set_title('impulse')\n",
    "ax_welch[1].plot(f_step, p_step, label='step')\n",
    "ax_welch[1].set_title('step')\n",
    "ax_welch[2].plot(f_sine, p_sine, label='sine')\n",
    "ax_welch[2].set_title('sine')\n",
    "ax_welch[3].plot(f_chirp, p_chirp, label='chirp')\n",
    "ax_welch[3].set_title('chirp')\n",
    "ax_welch[4].plot(f_rand, p_rand, label='rand')\n",
    "ax_welch[4].set_title('rand')\n",
    "\n",
    "for ii in np.arange(5):\n",
    "    ax_welch[ii].spines[:].set_visible(False)\n",
    "    # ax_welch[ii].set_ylim([-1.1,1.1])\n",
    "    ax_welch[ii].set_xticks(ticks=[])\n",
    "    ax_welch[ii].set_xscale('log')\n",
    "\n",
    "fig_welch.tight_layout(h_pad=1)"
   ]
  },
  {
   "cell_type": "markdown",
   "metadata": {},
   "source": [
    "### Impulse response\n",
    "\n",
    "We're going to make a 51 sample impulse, and convolve it with the signals to see how each responds"
   ]
  },
  {
   "cell_type": "code",
   "execution_count": 42,
   "metadata": {},
   "outputs": [],
   "source": [
    "imp_51 = np.zeros([51,])\n",
    "imp_51[25] = 1\n",
    "\n",
    "impulse_imp = signal.convolve(impulse,imp_51)\n",
    "step_imp = signal.convolve(step,imp_51)\n",
    "sine_imp = signal.convolve(sine,imp_51)\n",
    "chirp_imp = signal.convolve(chirp,imp_51)\n",
    "rand_imp = signal.convolve(rand,imp_51)"
   ]
  },
  {
   "cell_type": "code",
   "execution_count": 43,
   "metadata": {},
   "outputs": [],
   "source": [
    "fig_imp,ax_imp = plt.subplots(nrows=5, sharex=True)\n",
    "\n",
    "ax_imp[0].plot(impulse_imp)\n",
    "ax_imp[0].set_title('impulse')\n",
    "ax_imp[1].plot(step_imp)\n",
    "ax_imp[1].set_title('step')\n",
    "ax_imp[2].plot(sine_imp)\n",
    "ax_imp[2].set_title('sine')\n",
    "ax_imp[3].plot(chirp_imp)\n",
    "ax_imp[3].set_title('chirp')\n",
    "ax_imp[4].plot(rand_imp)\n",
    "ax_imp[4].set_title('rand')\n",
    "\n",
    "\n",
    "for ii in np.arange(5):\n",
    "    ax_imp[ii].spines[:].set_visible(False)\n",
    "    # ax_imp[ii].set_ylim([-1.1,1.1])\n",
    "    ax_imp[ii].set_xticks(ticks=[])\n",
    "\n",
    "fig_imp.tight_layout(h_pad=1)"
   ]
  },
  {
   "cell_type": "markdown",
   "metadata": {},
   "source": [
    "### Filtering\n",
    "\n",
    "Let's try filtering with a couple different filters"
   ]
  },
  {
   "cell_type": "code",
   "execution_count": 44,
   "metadata": {},
   "outputs": [],
   "source": [
    "sos = signal.butter(4,np.array([10, 30]), 'bandpass', fs=fs, output='sos')\n",
    "# sos = signal.butter(4,np.array([10]), 'lowpass', fs=fs)\n",
    "# sos = signal.butter(4,np.array([30]), 'highpass', fs=fs)\n",
    "\n",
    "impulse_filt_1 = signal.sosfilt(sos,impulse)\n",
    "step_filt_1 = signal.sosfilt(sos,step)\n",
    "sine_filt_1 = signal.sosfilt(sos,sine)\n",
    "chirp_filt_1 = signal.sosfilt(sos,chirp)\n",
    "rand_filt_1 = signal.sosfilt(sos,rand)\n",
    "\n",
    "\n"
   ]
  },
  {
   "cell_type": "code",
   "execution_count": 45,
   "metadata": {},
   "outputs": [],
   "source": [
    "fig_filt_1, ax_filt_1 = plt.subplots(nrows=5, sharex=True)\n",
    "\n",
    "\n",
    "ax_filt_1[0].plot(ts,impulse_filt_1)\n",
    "ax_filt_1[0].set_title('impulse')\n",
    "ax_filt_1[1].plot(ts,step_filt_1)\n",
    "ax_filt_1[1].set_title('step')\n",
    "ax_filt_1[2].plot(ts,sine_filt_1)\n",
    "ax_filt_1[2].set_title('sine')\n",
    "ax_filt_1[3].plot(ts,chirp_filt_1)\n",
    "ax_filt_1[3].set_title('chirp')\n",
    "ax_filt_1[4].plot(ts,rand_filt_1)\n",
    "ax_filt_1[4].set_title('rand')\n",
    "\n",
    "for ii in np.arange(5):\n",
    "    ax_filt_1[ii].spines[:].set_visible(False)\n",
    "    # ax_filt_1[ii].set_ylim([-1.1,1.1])\n",
    "    ax_filt_1[ii].set_xticks(ticks=[])\n",
    "\n",
    "fig_filt_1.tight_layout(h_pad=1)"
   ]
  },
  {
   "cell_type": "code",
   "execution_count": null,
   "metadata": {},
   "outputs": [],
   "source": []
  }
 ],
 "metadata": {
  "kernelspec": {
   "display_name": "Python 3.9.7 ('generic_analysis')",
   "language": "python",
   "name": "python3"
  },
  "language_info": {
   "codemirror_mode": {
    "name": "ipython",
    "version": 3
   },
   "file_extension": ".py",
   "mimetype": "text/x-python",
   "name": "python",
   "nbconvert_exporter": "python",
   "pygments_lexer": "ipython3",
   "version": "3.9.7"
  },
  "orig_nbformat": 4,
  "vscode": {
   "interpreter": {
    "hash": "4c3d6a09a2eab40ad7ee3f4ceff8ef3c0fa58d9c32583ec9dab2aa1690f2b213"
   }
  }
 },
 "nbformat": 4,
 "nbformat_minor": 2
}
