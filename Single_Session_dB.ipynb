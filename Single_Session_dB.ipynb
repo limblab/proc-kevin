{
 "cells": [
  {
   "cell_type": "markdown",
   "metadata": {},
   "source": [
    "# Load sessions into SQL\n",
    "\n",
    "Pick a file, load it into sql with the associated comments. This is meant as a step for files we have particular comments for. Automated processing for future stuff.\n",
    "\n",
    "\n",
    "Steps: \n",
    "1. choose .nev file. \n",
    "2. Get info about monkey etc\n",
    "3. Look for .nsX files, see what's inside. If EMGs, run EMG 60hz info\n",
    "4. Create day in \"days\" if it doesn't exist. \n",
    "5. Insert relevent info into database\n",
    "\n",
    "\n",
    "\n",
    "#### Required Dependencies:\n",
    "- sqlalchemy\n",
    "- pymysql\n",
    "- numpy\n",
    "- pandas\n",
    "- jupyter\n",
    "- brPy (Blackrock's Python Utilities)"
   ]
  },
  {
   "cell_type": "code",
   "execution_count": 4,
   "metadata": {},
   "outputs": [],
   "source": [
    "import pandas as pd\n",
    "import numpy as np\n",
    "from sqlalchemy import create_engine\n",
    "from os import path\n",
    "import brpylib\n",
    "# import getpass\n",
    "\n",
    "dbName = \"staging_db\"\n",
    "userName = \"limblab\"\n",
    "\n",
    "# unfortunately getpass doesn't seem to work properly in vscode, and I don't feel like\n",
    "# playing with the json workspace controls\n",
    "# sesame = input(\"enter sesame\") # this isn't secure, but it's better than allowing it to go up to git\n",
    "# sesame = getpass.getpass('mySQL limblab ')\n",
    "sesame = \"mvemjlht123&LL\""
   ]
  },
  {
   "cell_type": "code",
   "execution_count": 4,
   "metadata": {},
   "outputs": [
    {
     "name": "stdout",
     "output_type": "stream",
     "text": [
      "Check that path file name\n"
     ]
    }
   ],
   "source": [
    "# monkey name can be used to get ccmid etc\n",
    "monkeyName = ''\n",
    "\n",
    "# path to .nev file\n",
    "filePath = ''\n",
    "\n",
    "if not path.exists(filePath):\n",
    "    print('Check that path file name')"
   ]
  },
  {
   "cell_type": "code",
   "execution_count": null,
   "metadata": {},
   "outputs": [],
   "source": []
  }
 ],
 "metadata": {
  "interpreter": {
   "hash": "6cd38a885f36c25ac783ac028ae4abab1908bb8eadd5b839e3772bce095ac262"
  },
  "kernelspec": {
   "display_name": "Python 3.8.12 ('daily_log_parser')",
   "language": "python",
   "name": "python3"
  },
  "language_info": {
   "codemirror_mode": {
    "name": "ipython",
    "version": 3
   },
   "file_extension": ".py",
   "mimetype": "text/x-python",
   "name": "python",
   "nbconvert_exporter": "python",
   "pygments_lexer": "ipython3",
   "version": "3.8.12"
  },
  "orig_nbformat": 4
 },
 "nbformat": 4,
 "nbformat_minor": 2
}
