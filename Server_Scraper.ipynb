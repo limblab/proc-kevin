{
 "cells": [
  {
   "cell_type": "markdown",
   "metadata": {},
   "source": [
    "# Daily Log to SQL\n",
    "\n",
    "This is a file to help clean up data from the daily logs and insert them into the Limblab MySQL database. You will need to know the sesames and either be connected to the VPN or running this remotely on Shrek or Donkey to use this.\n",
    "\n",
    "\n",
    "## Required Dependencies:\n",
    "\n",
    "- sqlalchemy\n",
    "- pymysql\n",
    "- numpy\n",
    "- pandas\n",
    "\n",
    "\n",
    "### Linux specific\n",
    "You'll need to run <code> sudo apt install libmysqlclient mysql-client-core </code>\n",
    "\n",
    "### macOS specific\n",
    "You'll need to run <code> brew install mysql </code>"
   ]
  },
  {
   "cell_type": "code",
   "execution_count": 5,
   "metadata": {},
   "outputs": [
    {
     "ename": "ModuleNotFoundError",
     "evalue": "No module named 'keyboard'",
     "output_type": "error",
     "traceback": [
      "\u001b[1;31m---------------------------------------------------------------------------\u001b[0m",
      "\u001b[1;31mModuleNotFoundError\u001b[0m                       Traceback (most recent call last)",
      "\u001b[1;32m<ipython-input-5-2b6616256166>\u001b[0m in \u001b[0;36m<module>\u001b[1;34m\u001b[0m\n\u001b[0;32m      4\u001b[0m \u001b[1;32mfrom\u001b[0m \u001b[0mos\u001b[0m \u001b[1;32mimport\u001b[0m \u001b[0mpath\u001b[0m\u001b[1;33m,\u001b[0m \u001b[0msystem\u001b[0m\u001b[1;33m\u001b[0m\u001b[1;33m\u001b[0m\u001b[0m\n\u001b[0;32m      5\u001b[0m \u001b[1;32mfrom\u001b[0m \u001b[0msys\u001b[0m \u001b[1;32mimport\u001b[0m \u001b[0mplatform\u001b[0m\u001b[1;33m\u001b[0m\u001b[1;33m\u001b[0m\u001b[0m\n\u001b[1;32m----> 6\u001b[1;33m \u001b[1;32mimport\u001b[0m \u001b[0mkeyboard\u001b[0m\u001b[1;33m\u001b[0m\u001b[1;33m\u001b[0m\u001b[0m\n\u001b[0m",
      "\u001b[1;31mModuleNotFoundError\u001b[0m: No module named 'keyboard'"
     ]
    }
   ],
   "source": [
    "import pandas as pd\n",
    "import numpy as np\n",
    "from sqlalchemy import create_engine\n",
    "from os import path, system\n",
    "from sys import platform\n",
    "import keyboard"
   ]
  },
  {
   "cell_type": "markdown",
   "metadata": {},
   "source": [
    "### Background data\n",
    "\n",
    "what is the monkey's name? What directory are we going to be scraping (better to do this once per monkey)"
   ]
  },
  {
   "cell_type": "code",
   "execution_count": 2,
   "metadata": {},
   "outputs": [],
   "source": [
    "# Monkey data\n",
    "monkeyName = \"Greyson\"\n",
    "ccmID = \"18E2\"\n",
    "\n",
    "# directory info\n",
    "scrape_dir = 'Z:\\data\\Greyson_17L2\\CerebusData'\n",
    "if not path.exists(scrape_dir):\n",
    "    print(f\"{scrape_dir} does not exist! Try again!\")"
   ]
  },
  {
   "cell_type": "markdown",
   "metadata": {},
   "source": [
    "### Get a list of all threshold files\n",
    "\n",
    "We'll work with nev and plx files for now. Going to assume that all recordings have those, so we'll work off that"
   ]
  },
  {
   "cell_type": "code",
   "execution_count": null,
   "metadata": {},
   "outputs": [],
   "source": [
    "# List of files. Going to take a minute\n",
    "if 'win' in platform:\n",
    "    _ = input()\n",
    "    file_list = system(f\"dir /B /S {scrape_dir}\\\\*.nev \")\n",
    "    print(file_list[-1])\n",
    "if 'nix' in platform:\n",
    "    file_list = system(f\"ls -R {scrape_dir}/*.nev\")"
   ]
  },
  {
   "cell_type": "code",
   "execution_count": 9,
   "metadata": {},
   "outputs": [
    {
     "data": {
      "text/plain": [
       "<nt.ScandirIterator at 0x21f550609e0>"
      ]
     },
     "execution_count": 9,
     "metadata": {},
     "output_type": "execute_result"
    }
   ],
   "source": [
    "nev_list"
   ]
  },
  {
   "cell_type": "code",
   "execution_count": null,
   "metadata": {},
   "outputs": [],
   "source": [
    "file_list"
   ]
  },
  {
   "cell_type": "code",
   "execution_count": null,
   "metadata": {},
   "outputs": [],
   "source": []
  }
 ],
 "metadata": {
  "kernelspec": {
   "display_name": "Python 3",
   "language": "python",
   "name": "python3"
  },
  "language_info": {
   "codemirror_mode": {
    "name": "ipython",
    "version": 3
   },
   "file_extension": ".py",
   "mimetype": "text/x-python",
   "name": "python",
   "nbconvert_exporter": "python",
   "pygments_lexer": "ipython3",
   "version": "3.7.3"
  }
 },
 "nbformat": 4,
 "nbformat_minor": 2
}
